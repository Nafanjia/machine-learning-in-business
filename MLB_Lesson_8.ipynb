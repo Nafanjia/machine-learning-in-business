{
 "cells": [
  {
   "cell_type": "markdown",
   "metadata": {
    "colab_type": "text",
    "id": "oR02DxanOGDk"
   },
   "source": [
    "## Общие преобразования"
   ]
  },
  {
   "cell_type": "markdown",
   "metadata": {
    "colab_type": "text",
    "id": "JbIX5hsRR2qA"
   },
   "source": [
    "Класс для общих случаев"
   ]
  },
  {
   "cell_type": "code",
   "execution_count": 3,
   "metadata": {
    "colab": {},
    "colab_type": "code",
    "id": "Yam47yC5KkWF"
   },
   "outputs": [],
   "source": [
    "class InsDataFrame:\n",
    "\n",
    "\n",
    "    ''' Load data method '''\n",
    "\n",
    "    def load_pd(self, pd_dataframe):\n",
    "        self._df = pd_dataframe\n",
    "\n",
    "\n",
    "    ''' Columns match method '''\n",
    "\n",
    "    def columns_match(self, match_from_to):\n",
    "        self._df.rename(columns=match_from_to, inplace=True)\n",
    "\n",
    "\n",
    "    ''' Person data methods '''\n",
    "\n",
    "    # Gender\n",
    "    _gender_dict = {'Male':0, 'Female':1}\n",
    "\n",
    "    def transform_gender(self):\n",
    "        self._df['Gender'] = self._df['Gender'].map(self._gender_dict)\n",
    "\n",
    "        \n",
    "\n",
    "    # Age\n",
    "    @staticmethod\n",
    "    def _age(age, age_max):\n",
    "        if pd.isnull(age):\n",
    "            age = None\n",
    "        elif age < 18:\n",
    "            age = None\n",
    "        elif age > age_max:\n",
    "            age = age_max\n",
    "        return age\n",
    "      \n",
    "    def transform_age(self, age_max=70):\n",
    "        self._df['driver_minage'] = self._df['driver_minage'].apply(self._age, args=(age_max,))\n",
    "\n",
    "    # Age M/F\n",
    "    @staticmethod\n",
    "    def _age_gender(age_gender):\n",
    "        _age = age_gender[0]\n",
    "        _gender = age_gender[1]\n",
    "        if _gender == 0: #Male\n",
    "            _driver_minage_m = _age\n",
    "            _driver_minage_f = 18\n",
    "        elif _gender == 1: #Female\n",
    "            _driver_minage_m = 18\n",
    "            _driver_minage_f = _age\n",
    "        else:\n",
    "            _driver_minage_m = 18\n",
    "            _driver_minage_f = 18\n",
    "        return [_driver_minage_m, _driver_minage_f]\n",
    "    \n",
    "    def transform_age_gender(self):\n",
    "        self._df['driver_minage_m'],self._df['driver_minage_f'] = zip(*self._df[['driver_minage','Gender']].apply(self._age_gender, axis=1).to_frame()[0])\n",
    "\n",
    "    # Experience\n",
    "    @staticmethod\n",
    "    def _exp(exp, exp_max):\n",
    "        if pd.isnull(exp):\n",
    "            exp = None\n",
    "        elif exp < 0:\n",
    "            exp = None\n",
    "        elif exp > exp_max:\n",
    "            exp = exp_max\n",
    "        return exp\n",
    "\n",
    "    def transform_exp(self, exp_max=52):\n",
    "        self._df['driver_minexp'] = self._df['driver_minexp'].apply(self._exp, args=(exp_max,))\n",
    "\n",
    "\n",
    "    ''' Other data methods '''\n",
    "\n",
    "    def polynomizer(self, column, n=2):\n",
    "        if column in list(self._df.columns):\n",
    "            for i in range(2,n+1):\n",
    "                self._df[column+'_'+str(i)] = self._df[column]**i\n",
    "\n",
    "    def get_dummies(self, columns):\n",
    "        self._df = pd.get_dummies(self._df, columns=columns)\n",
    "\n",
    "\n",
    "    ''' General methods '''\n",
    "\n",
    "    def info(self):\n",
    "        return self._df.info()\n",
    "\n",
    "    def head(self, columns, n=5):\n",
    "        return self._df.head(n)\n",
    "\n",
    "    def len(self):\n",
    "        return len(self._df)\n",
    "\n",
    "    def get_pd(self, columns):\n",
    "        return self._df[columns]"
   ]
  },
  {
   "cell_type": "markdown",
   "metadata": {
    "colab_type": "text",
    "id": "4kCFRjwRR7fR"
   },
   "source": [
    "Создаем класс-наследник, в котором переопределяем некоторые методы, специфические для конкретной ситуации, и создаем новые"
   ]
  },
  {
   "cell_type": "markdown",
   "metadata": {
    "colab_type": "text",
    "id": "EM6EUhT3Z_cV"
   },
   "source": [
    "- В данных стаж \"LicAge\" измеряется в неделях.\n",
    "- Фактор \"SocioCateg\" содержит информацию о социальной категории в виде кодов классификации CSP. Агрегируем имеющиеся коды до 1 знака, а затем закодируем их с помощью one-hot encoding.\n",
    "\n",
    "[Wiki](https://fr.wikipedia.org/wiki/Professions_et_cat%C3%A9gories_socioprofessionnelles_en_France#Cr%C3%A9ation_de_la_nomenclature_des_PCS)\n",
    "\n",
    "[Более подробный классификатор](https://www.ast74.fr/upload/administratif/liste-des-codes-csp-copie.pdf)"
   ]
  },
  {
   "cell_type": "code",
   "execution_count": 4,
   "metadata": {
    "colab": {},
    "colab_type": "code",
    "id": "iIaUlNP9Kkaa"
   },
   "outputs": [],
   "source": [
    "class InsDataFrame_Fr(InsDataFrame):\n",
    "\n",
    "    # Experience (weeks to years)\n",
    "    @staticmethod\n",
    "    def _exp(exp, exp_max):\n",
    "        if pd.isnull(exp):\n",
    "            exp = None\n",
    "        elif exp < 0:\n",
    "            exp = None\n",
    "        else:\n",
    "            exp * 7 // 365\n",
    "        if exp > exp_max:\n",
    "            exp = exp_max\n",
    "        return exp\n",
    "\n",
    "    # Marital status\n",
    "    _MariStat_dict = {'Other':0, 'Alone':1}\n",
    "\n",
    "    def transform_MariStat(self):\n",
    "        self._df['MariStat'] = self._df['MariStat'].map(self._MariStat_dict)\n",
    "    \n",
    "    # Social category\n",
    "    def transform_SocioCateg(self):\n",
    "        self._df['SocioCateg'] = self._df['SocioCateg'].str.slice(0,4)"
   ]
  },
  {
   "cell_type": "markdown",
   "metadata": {
    "colab_type": "text",
    "id": "Xljx8j0-_jXR"
   },
   "source": [
    "### * Домашнее задание: Многоклассовая классификация"
   ]
  },
  {
   "cell_type": "markdown",
   "metadata": {
    "colab_type": "text",
    "id": "bVx_WNaKwibO"
   },
   "source": [
    "В текущем домашнем задание предлагается взглянуть на задачу моделирования количества страховых случаев как на задачу многоклассовой классификации."
   ]
  },
  {
   "cell_type": "code",
   "execution_count": 5,
   "metadata": {
    "colab": {},
    "colab_type": "code",
    "id": "n98J3UNxSLUd"
   },
   "outputs": [],
   "source": [
    "import pandas as pd\n",
    "import numpy as np\n",
    "import xgboost as xgb\n",
    "import matplotlib.pyplot as plt\n",
    "from sklearn.model_selection import train_test_split\n",
    "from sklearn.metrics import f1_score, accuracy_score, confusion_matrix\n",
    "from hyperopt import hp, tpe, space_eval, fmin, Trials, STATUS_OK\n",
    "from functools import partial\n",
    "\n",
    "from insolver import InsDataFrame, InsolverGradientBoostingWrapper, train_val_test_split"
   ]
  },
  {
   "cell_type": "code",
   "execution_count": 6,
   "metadata": {
    "colab": {},
    "colab_type": "code",
    "id": "cdgTw4I-7GdC"
   },
   "outputs": [],
   "source": [
    "df = pd.read_csv('freMPL-R.csv', low_memory=False)"
   ]
  },
  {
   "cell_type": "code",
   "execution_count": 7,
   "metadata": {
    "colab": {},
    "colab_type": "code",
    "id": "ydyEnF3VCbXO"
   },
   "outputs": [
    {
     "name": "stdout",
     "output_type": "stream",
     "text": [
      "<class 'pandas.core.frame.DataFrame'>\n",
      "RangeIndex: 115155 entries, 0 to 115154\n",
      "Data columns (total 20 columns):\n",
      " #   Column             Non-Null Count   Dtype  \n",
      "---  ------             --------------   -----  \n",
      " 0   Exposure           115155 non-null  float64\n",
      " 1   LicAge             115155 non-null  int64  \n",
      " 2   RecordBeg          115155 non-null  object \n",
      " 3   RecordEnd          59455 non-null   object \n",
      " 4   Gender             115155 non-null  object \n",
      " 5   MariStat           115155 non-null  object \n",
      " 6   SocioCateg         115155 non-null  object \n",
      " 7   VehUsage           115155 non-null  object \n",
      " 8   DrivAge            115155 non-null  int64  \n",
      " 9   HasKmLimit         115155 non-null  int64  \n",
      " 10  BonusMalus         115155 non-null  int64  \n",
      " 11  ClaimAmount        115155 non-null  float64\n",
      " 12  ClaimInd           115155 non-null  int64  \n",
      " 13  ClaimNbResp        115155 non-null  float64\n",
      " 14  ClaimNbNonResp     115155 non-null  float64\n",
      " 15  ClaimNbParking     115155 non-null  float64\n",
      " 16  ClaimNbFireTheft   115155 non-null  float64\n",
      " 17  ClaimNbWindscreen  115155 non-null  float64\n",
      " 18  OutUseNb           115155 non-null  float64\n",
      " 19  RiskArea           115155 non-null  float64\n",
      "dtypes: float64(9), int64(5), object(6)\n",
      "memory usage: 17.6+ MB\n"
     ]
    }
   ],
   "source": [
    "df = df.loc[df.Dataset.isin([5, 6, 7, 8, 9])]\n",
    "df.drop('Dataset', axis=1, inplace=True)\n",
    "df.dropna(axis=1, how='all', inplace=True)\n",
    "df.drop_duplicates(inplace=True)\n",
    "df.reset_index(drop=True, inplace=True)\n",
    "df.info()"
   ]
  },
  {
   "cell_type": "markdown",
   "metadata": {
    "colab_type": "text",
    "id": "r9dMlMh5QcXt"
   },
   "source": [
    "Предобработайте данные"
   ]
  },
  {
   "cell_type": "code",
   "execution_count": 8,
   "metadata": {
    "colab": {},
    "colab_type": "code",
    "id": "WdtY7qDp8veM"
   },
   "outputs": [],
   "source": [
    "df.loc[df.ClaimAmount < 0, 'ClaimAmount'] = 0\n",
    "\n",
    "df['ClaimsCount'] = df.ClaimInd + df.ClaimNbResp + df.ClaimNbNonResp + df.ClaimNbParking + df.ClaimNbFireTheft + df.ClaimNbWindscreen\n",
    "df.loc[df.ClaimAmount == 0, 'ClaimsCount'] = 0\n",
    "df.drop([\"ClaimNbResp\", \"ClaimNbNonResp\", \"ClaimNbParking\", \"ClaimNbFireTheft\", \"ClaimNbWindscreen\"], axis=1, inplace=True)\n",
    "\n",
    "pd.DataFrame(df.ClaimsCount.value_counts()).rename({'ClaimsCount': 'Policies'}, axis=1)\n",
    "\n",
    "df.loc[df.ClaimsCount > 0, 'AvgClaim'] = df['ClaimAmount']/df['ClaimsCount']\n",
    "\n",
    "data = InsDataFrame_Fr()\n",
    "data.load_pd(df)\n",
    "# Переименовываем\n",
    "data.columns_match({'DrivAge':'driver_minage','LicAge':'driver_minexp'})\n",
    "# Преобразовываем\n",
    "data.transform_age()\n",
    "data.transform_exp()\n",
    "data.transform_gender()\n",
    "data.transform_MariStat()\n",
    "data.transform_SocioCateg()\n",
    "# Пересечение пола и возраста, их квадраты\n",
    "data.transform_age_gender()\n",
    "data.polynomizer('driver_minage_m')\n",
    "data.polynomizer('driver_minage_f')\n",
    "# Onehot encoding\n",
    "data.get_dummies(['VehUsage','SocioCateg'])\n",
    "\n",
    "col_features = [\n",
    "                'driver_minexp',\n",
    "                'Gender',\n",
    "                'MariStat',\n",
    "                'HasKmLimit',\n",
    "                'BonusMalus',\n",
    "                'OutUseNb',\n",
    "                'RiskArea',\n",
    "                'driver_minage_m',\n",
    "                'driver_minage_f',\n",
    "                'driver_minage_m_2',\n",
    "                'driver_minage_f_2',\n",
    "                'VehUsage_Private',\n",
    "                'VehUsage_Private+trip to office',\n",
    "                'VehUsage_Professional',\n",
    "                'VehUsage_Professional run',\n",
    "                'SocioCateg_CSP1',\n",
    "                'SocioCateg_CSP2',\n",
    "                'SocioCateg_CSP3',\n",
    "                'SocioCateg_CSP4',\n",
    "                'SocioCateg_CSP5',\n",
    "                'SocioCateg_CSP6',\n",
    "                'SocioCateg_CSP7'  \n",
    "]\n",
    "\n",
    "col_target = ['ClaimAmount', 'ClaimsCount', 'AvgClaim']\n",
    "\n",
    "df = data.get_pd(col_features+col_target)"
   ]
  },
  {
   "cell_type": "code",
   "execution_count": 9,
   "metadata": {
    "colab": {},
    "colab_type": "code",
    "id": "S4g1U0-rdIZq"
   },
   "outputs": [
    {
     "name": "stdout",
     "output_type": "stream",
     "text": [
      "<class 'pandas.core.frame.DataFrame'>\n",
      "RangeIndex: 115155 entries, 0 to 115154\n",
      "Data columns (total 25 columns):\n",
      " #   Column                           Non-Null Count   Dtype  \n",
      "---  ------                           --------------   -----  \n",
      " 0   driver_minexp                    115155 non-null  int64  \n",
      " 1   Gender                           115155 non-null  int64  \n",
      " 2   MariStat                         115155 non-null  int64  \n",
      " 3   HasKmLimit                       115155 non-null  int64  \n",
      " 4   BonusMalus                       115155 non-null  int64  \n",
      " 5   OutUseNb                         115155 non-null  float64\n",
      " 6   RiskArea                         115155 non-null  float64\n",
      " 7   driver_minage_m                  115155 non-null  int64  \n",
      " 8   driver_minage_f                  115155 non-null  int64  \n",
      " 9   driver_minage_m_2                115155 non-null  int64  \n",
      " 10  driver_minage_f_2                115155 non-null  int64  \n",
      " 11  VehUsage_Private                 115155 non-null  uint8  \n",
      " 12  VehUsage_Private+trip to office  115155 non-null  uint8  \n",
      " 13  VehUsage_Professional            115155 non-null  uint8  \n",
      " 14  VehUsage_Professional run        115155 non-null  uint8  \n",
      " 15  SocioCateg_CSP1                  115155 non-null  uint8  \n",
      " 16  SocioCateg_CSP2                  115155 non-null  uint8  \n",
      " 17  SocioCateg_CSP3                  115155 non-null  uint8  \n",
      " 18  SocioCateg_CSP4                  115155 non-null  uint8  \n",
      " 19  SocioCateg_CSP5                  115155 non-null  uint8  \n",
      " 20  SocioCateg_CSP6                  115155 non-null  uint8  \n",
      " 21  SocioCateg_CSP7                  115155 non-null  uint8  \n",
      " 22  ClaimAmount                      115155 non-null  float64\n",
      " 23  ClaimsCount                      115155 non-null  float64\n",
      " 24  AvgClaim                         10869 non-null   float64\n",
      "dtypes: float64(5), int64(9), uint8(11)\n",
      "memory usage: 13.5 MB\n"
     ]
    }
   ],
   "source": [
    "df.info()"
   ]
  },
  {
   "cell_type": "markdown",
   "metadata": {
    "colab_type": "text",
    "id": "2m1bibe9nMKp"
   },
   "source": [
    "XGBoost для многоклассовой классификации принимает на вход значения меток классов в виде `[0, num_classes]`. Заменим значение 11 на 10."
   ]
  },
  {
   "cell_type": "code",
   "execution_count": 10,
   "metadata": {
    "colab": {},
    "colab_type": "code",
    "id": "ehf8mHX5tVNG"
   },
   "outputs": [
    {
     "name": "stderr",
     "output_type": "stream",
     "text": [
      "C:\\Users\\infantium\\anaconda3\\lib\\site-packages\\pandas\\core\\indexing.py:965: SettingWithCopyWarning: \n",
      "A value is trying to be set on a copy of a slice from a DataFrame.\n",
      "Try using .loc[row_indexer,col_indexer] = value instead\n",
      "\n",
      "See the caveats in the documentation: https://pandas.pydata.org/pandas-docs/stable/user_guide/indexing.html#returning-a-view-versus-a-copy\n",
      "  self.obj[item] = s\n"
     ]
    }
   ],
   "source": [
    "df.loc[df['ClaimsCount'] == 11, 'ClaimsCount'] = 10"
   ]
  },
  {
   "cell_type": "markdown",
   "metadata": {
    "colab_type": "text",
    "id": "Nqre5rvZxL-N"
   },
   "source": [
    "Посмотрим, сколько полисов соответствуют каждому из значений `ClaimsCount`, используя метод `groupby`. Для полученных значений также посчитаем нормированную частоту."
   ]
  },
  {
   "cell_type": "code",
   "execution_count": 11,
   "metadata": {
    "colab": {},
    "colab_type": "code",
    "id": "nHgg3kZJu8tX"
   },
   "outputs": [
    {
     "data": {
      "text/html": [
       "<div>\n",
       "<style scoped>\n",
       "    .dataframe tbody tr th:only-of-type {\n",
       "        vertical-align: middle;\n",
       "    }\n",
       "\n",
       "    .dataframe tbody tr th {\n",
       "        vertical-align: top;\n",
       "    }\n",
       "\n",
       "    .dataframe thead th {\n",
       "        text-align: right;\n",
       "    }\n",
       "</style>\n",
       "<table border=\"1\" class=\"dataframe\">\n",
       "  <thead>\n",
       "    <tr style=\"text-align: right;\">\n",
       "      <th></th>\n",
       "      <th>Count</th>\n",
       "      <th>Freq</th>\n",
       "    </tr>\n",
       "    <tr>\n",
       "      <th>ClaimsCount</th>\n",
       "      <th></th>\n",
       "      <th></th>\n",
       "    </tr>\n",
       "  </thead>\n",
       "  <tbody>\n",
       "    <tr>\n",
       "      <th>0.0</th>\n",
       "      <td>104286</td>\n",
       "      <td>1.000000</td>\n",
       "    </tr>\n",
       "    <tr>\n",
       "      <th>1.0</th>\n",
       "      <td>3339</td>\n",
       "      <td>0.032008</td>\n",
       "    </tr>\n",
       "    <tr>\n",
       "      <th>2.0</th>\n",
       "      <td>3529</td>\n",
       "      <td>0.033830</td>\n",
       "    </tr>\n",
       "    <tr>\n",
       "      <th>3.0</th>\n",
       "      <td>2310</td>\n",
       "      <td>0.022141</td>\n",
       "    </tr>\n",
       "    <tr>\n",
       "      <th>4.0</th>\n",
       "      <td>1101</td>\n",
       "      <td>0.010548</td>\n",
       "    </tr>\n",
       "  </tbody>\n",
       "</table>\n",
       "</div>"
      ],
      "text/plain": [
       "              Count      Freq\n",
       "ClaimsCount                  \n",
       "0.0          104286  1.000000\n",
       "1.0            3339  0.032008\n",
       "2.0            3529  0.033830\n",
       "3.0            2310  0.022141\n",
       "4.0            1101  0.010548"
      ]
     },
     "execution_count": 11,
     "metadata": {},
     "output_type": "execute_result"
    }
   ],
   "source": [
    "FreqCount = pd.DataFrame(df.groupby('ClaimsCount').size(), columns=['Count'])\n",
    "FreqCount['Freq'] = (FreqCount['Count'] - FreqCount['Count'].min()) / (FreqCount['Count'].max() - FreqCount['Count'].min())\n",
    "FreqCount.head()"
   ]
  },
  {
   "cell_type": "code",
   "execution_count": 12,
   "metadata": {
    "colab": {},
    "colab_type": "code",
    "id": "UifKccwQYWiT"
   },
   "outputs": [
    {
     "data": {
      "image/png": "[encoded data removed]",
      "text/plain": [
       "<Figure size 432x288 with 1 Axes>"
      ]
     },
     "metadata": {
      "needs_background": "light"
     },
     "output_type": "display_data"
    }
   ],
   "source": [
    "FreqCount.Freq.plot(kind='bar')\n",
    "plt.ylabel('Frequency')\n",
    "plt.show()"
   ]
  },
  {
   "cell_type": "code",
   "execution_count": 13,
   "metadata": {
    "colab": {},
    "colab_type": "code",
    "id": "4Gy10AzjXsT9"
   },
   "outputs": [
    {
     "data": {
      "text/html": [
       "<div>\n",
       "<style scoped>\n",
       "    .dataframe tbody tr th:only-of-type {\n",
       "        vertical-align: middle;\n",
       "    }\n",
       "\n",
       "    .dataframe tbody tr th {\n",
       "        vertical-align: top;\n",
       "    }\n",
       "\n",
       "    .dataframe thead th {\n",
       "        text-align: right;\n",
       "    }\n",
       "</style>\n",
       "<table border=\"1\" class=\"dataframe\">\n",
       "  <thead>\n",
       "    <tr style=\"text-align: right;\">\n",
       "      <th></th>\n",
       "      <th>Count</th>\n",
       "      <th>Freq</th>\n",
       "    </tr>\n",
       "    <tr>\n",
       "      <th>ClaimsCount</th>\n",
       "      <th></th>\n",
       "      <th></th>\n",
       "    </tr>\n",
       "  </thead>\n",
       "  <tbody>\n",
       "    <tr>\n",
       "      <th>0.0</th>\n",
       "      <td>104286</td>\n",
       "      <td>1.000000</td>\n",
       "    </tr>\n",
       "    <tr>\n",
       "      <th>1.0</th>\n",
       "      <td>3339</td>\n",
       "      <td>0.032008</td>\n",
       "    </tr>\n",
       "    <tr>\n",
       "      <th>2.0</th>\n",
       "      <td>3529</td>\n",
       "      <td>0.033830</td>\n",
       "    </tr>\n",
       "    <tr>\n",
       "      <th>3.0</th>\n",
       "      <td>2310</td>\n",
       "      <td>0.022141</td>\n",
       "    </tr>\n",
       "    <tr>\n",
       "      <th>4.0</th>\n",
       "      <td>1101</td>\n",
       "      <td>0.010548</td>\n",
       "    </tr>\n",
       "    <tr>\n",
       "      <th>5.0</th>\n",
       "      <td>428</td>\n",
       "      <td>0.004095</td>\n",
       "    </tr>\n",
       "    <tr>\n",
       "      <th>6.0</th>\n",
       "      <td>127</td>\n",
       "      <td>0.001208</td>\n",
       "    </tr>\n",
       "    <tr>\n",
       "      <th>7.0</th>\n",
       "      <td>26</td>\n",
       "      <td>0.000240</td>\n",
       "    </tr>\n",
       "    <tr>\n",
       "      <th>8.0</th>\n",
       "      <td>6</td>\n",
       "      <td>0.000048</td>\n",
       "    </tr>\n",
       "    <tr>\n",
       "      <th>9.0</th>\n",
       "      <td>2</td>\n",
       "      <td>0.000010</td>\n",
       "    </tr>\n",
       "    <tr>\n",
       "      <th>10.0</th>\n",
       "      <td>1</td>\n",
       "      <td>0.000000</td>\n",
       "    </tr>\n",
       "  </tbody>\n",
       "</table>\n",
       "</div>"
      ],
      "text/plain": [
       "              Count      Freq\n",
       "ClaimsCount                  \n",
       "0.0          104286  1.000000\n",
       "1.0            3339  0.032008\n",
       "2.0            3529  0.033830\n",
       "3.0            2310  0.022141\n",
       "4.0            1101  0.010548\n",
       "5.0             428  0.004095\n",
       "6.0             127  0.001208\n",
       "7.0              26  0.000240\n",
       "8.0               6  0.000048\n",
       "9.0               2  0.000010\n",
       "10.0              1  0.000000"
      ]
     },
     "execution_count": 13,
     "metadata": {},
     "output_type": "execute_result"
    }
   ],
   "source": [
    "FreqCount"
   ]
  },
  {
   "cell_type": "markdown",
   "metadata": {
    "colab_type": "text",
    "id": "BzM1998TZDPm"
   },
   "source": [
    "Заметим, что в данном случае присутствует проблема несбалансированности классов. Поэтому, для того, чтобы по возможности избежать ее, воспользуемся взвешиванием наблюдений для обучения модели. Для этого в исходном наборе данных создадим столбец `weight`. Присвоим ему некоторые значения, например, можно задать `0.05` для значений `ClaimsCount` 0, а для остальных - 1 (Для этого можем использовать функцию `np.where`). Также можно попробовать какой-либо другой способ задания весов, приведенный пример не гарантирует хороших результатов."
   ]
  },
  {
   "cell_type": "code",
   "execution_count": 14,
   "metadata": {
    "colab": {},
    "colab_type": "code",
    "id": "dnL5LOi0i2oq"
   },
   "outputs": [
    {
     "name": "stderr",
     "output_type": "stream",
     "text": [
      "C:\\Users\\infantium\\anaconda3\\lib\\site-packages\\ipykernel_launcher.py:1: SettingWithCopyWarning: \n",
      "A value is trying to be set on a copy of a slice from a DataFrame.\n",
      "Try using .loc[row_indexer,col_indexer] = value instead\n",
      "\n",
      "See the caveats in the documentation: https://pandas.pydata.org/pandas-docs/stable/user_guide/indexing.html#returning-a-view-versus-a-copy\n",
      "  \"\"\"Entry point for launching an IPython kernel.\n",
      "C:\\Users\\infantium\\anaconda3\\lib\\site-packages\\pandas\\core\\indexing.py:965: SettingWithCopyWarning: \n",
      "A value is trying to be set on a copy of a slice from a DataFrame.\n",
      "Try using .loc[row_indexer,col_indexer] = value instead\n",
      "\n",
      "See the caveats in the documentation: https://pandas.pydata.org/pandas-docs/stable/user_guide/indexing.html#returning-a-view-versus-a-copy\n",
      "  self.obj[item] = s\n"
     ]
    },
    {
     "data": {
      "text/plain": [
       "0.05    104286\n",
       "1.00     10869\n",
       "Name: weight, dtype: int64"
      ]
     },
     "execution_count": 14,
     "metadata": {},
     "output_type": "execute_result"
    }
   ],
   "source": [
    "df['weight'] = 0\n",
    "df.loc[df['ClaimAmount'] != 0, 'weight'] = 1\n",
    "df.loc[df['ClaimAmount'] == 0, 'weight'] = 0.05\n",
    "df['weight'].value_counts()"
   ]
  },
  {
   "cell_type": "markdown",
   "metadata": {
    "colab_type": "text",
    "id": "sAlGTL0hBpNv"
   },
   "source": [
    "Разобьем имеющийся набор данных на обучающую, валидационную и тестовую выборки в отношениях 70%/15%/15% соответственно. Зададим зерно для случайного разбиения равным 10."
   ]
  },
  {
   "cell_type": "code",
   "execution_count": 15,
   "metadata": {},
   "outputs": [],
   "source": [
    "x_train, x_valid, x_test, \\\n",
    "y_train, y_valid, y_test = train_val_test_split(df.drop(['ClaimAmount', 'ClaimsCount'], axis=1),\n",
    "                                               df.ClaimsCount, val_size=0.15, test_size=0.15, random_state=10)"
   ]
  },
  {
   "cell_type": "markdown",
   "metadata": {
    "colab_type": "text",
    "id": "N__wZRJLaMfs"
   },
   "source": [
    "Для оптимизации гиперпараметров можно воспользоваться различными методами."
   ]
  },
  {
   "cell_type": "code",
   "execution_count": 17,
   "metadata": {},
   "outputs": [],
   "source": [
    "igb = InsolverGradientBoostingWrapper(algorithm='xgboost')"
   ]
  },
  {
   "cell_type": "code",
   "execution_count": 18,
   "metadata": {},
   "outputs": [],
   "source": [
    "# Определим границы, в которых будем искать гиперпараметры\n",
    "space_xgboost = {'objective': 'multi:softmax',\n",
    "              'max_depth': hp.choice('max_depth', [5, 8, 10, 12, 15]),\n",
    "              'min_child_weight': hp.uniform('min_child_weight', 0, 50),\n",
    "              'subsample': hp.uniform('subsample', 0.5, 1),\n",
    "              'colsample_bytree': hp.uniform('colsample_bytree', 0.5, 1),\n",
    "              'alpha': hp.uniform('alpha', 0, 1),\n",
    "              'lambda': hp.uniform('lambda', 0, 1),\n",
    "              'eta': hp.uniform('eta', 0.01, 1),\n",
    "              'gamma': hp.uniform('gamma', 0.01, 1000),\n",
    "              'num_class': len(df.ClaimsCount.unique()),\n",
    "              'tree_method': 'hist'\n",
    "              }"
   ]
  },
  {
   "cell_type": "code",
   "execution_count": 19,
   "metadata": {},
   "outputs": [],
   "source": [
    "# Определим параметры выполнения кроссвалидации\n",
    "cv_params = {'num_boost_round': 1000,\n",
    "             'nfold': 3,\n",
    "             'early_stopping_rounds': 20,\n",
    "             'seed': 0,\n",
    "             'shuffle': True,\n",
    "             'stratified': False,             \n",
    "              }"
   ]
  },
  {
   "cell_type": "code",
   "execution_count": 20,
   "metadata": {},
   "outputs": [
    {
     "name": "stdout",
     "output_type": "stream",
     "text": [
      "100%|██████████████████| 50/50 [04:32<00:00,  5.44s/trial, best loss: 0.367146]\n"
     ]
    }
   ],
   "source": [
    "# Оптимизация (количество итераций снижено для ускорения работы)\n",
    "igb.hyperopt_cv(x_train.drop('weight', axis=1), y_train, space_xgboost, cv_params, \n",
    "                data_params={'weight': x_train['weight']}, max_evals=50)"
   ]
  },
  {
   "cell_type": "markdown",
   "metadata": {
    "colab_type": "text",
    "id": "_3bTqctcR84Z"
   },
   "source": [
    "Далее обучим нашу модель с оптимальными параметрами"
   ]
  },
  {
   "cell_type": "code",
   "execution_count": 21,
   "metadata": {
    "colab": {},
    "colab_type": "code",
    "id": "I-m6Ihq6hNJF"
   },
   "outputs": [
    {
     "name": "stdout",
     "output_type": "stream",
     "text": [
      "[0]\ttrain-merror:0.05049\tvalid-merror:0.04938\n",
      "Multiple eval metrics have been passed: 'valid-merror' will be used for early stopping.\n",
      "\n",
      "Will train until valid-merror hasn't improved in 20 rounds.\n",
      "[1]\ttrain-merror:0.04940\tvalid-merror:0.04938\n",
      "[2]\ttrain-merror:0.04878\tvalid-merror:0.04984\n",
      "[3]\ttrain-merror:0.04781\tvalid-merror:0.04973\n",
      "[4]\ttrain-merror:0.04761\tvalid-merror:0.04950\n",
      "[5]\ttrain-merror:0.04682\tvalid-merror:0.04880\n",
      "[6]\ttrain-merror:0.04667\tvalid-merror:0.04932\n",
      "[7]\ttrain-merror:0.04606\tvalid-merror:0.04897\n",
      "[8]\ttrain-merror:0.04569\tvalid-merror:0.04909\n",
      "[9]\ttrain-merror:0.04521\tvalid-merror:0.04921\n",
      "[10]\ttrain-merror:0.04477\tvalid-merror:0.04921\n",
      "[11]\ttrain-merror:0.04435\tvalid-merror:0.04932\n",
      "[12]\ttrain-merror:0.04378\tvalid-merror:0.04834\n",
      "[13]\ttrain-merror:0.04356\tvalid-merror:0.04816\n",
      "[14]\ttrain-merror:0.04325\tvalid-merror:0.04874\n",
      "[15]\ttrain-merror:0.04285\tvalid-merror:0.04892\n",
      "[16]\ttrain-merror:0.04240\tvalid-merror:0.04897\n",
      "[17]\ttrain-merror:0.04186\tvalid-merror:0.04955\n",
      "[18]\ttrain-merror:0.04177\tvalid-merror:0.04944\n",
      "[19]\ttrain-merror:0.04136\tvalid-merror:0.04938\n",
      "[20]\ttrain-merror:0.04106\tvalid-merror:0.04955\n",
      "[21]\ttrain-merror:0.04094\tvalid-merror:0.04892\n",
      "[22]\ttrain-merror:0.04057\tvalid-merror:0.04909\n",
      "[23]\ttrain-merror:0.04023\tvalid-merror:0.04961\n",
      "[24]\ttrain-merror:0.03990\tvalid-merror:0.04950\n",
      "[25]\ttrain-merror:0.03979\tvalid-merror:0.04961\n",
      "[26]\ttrain-merror:0.03961\tvalid-merror:0.04938\n",
      "[27]\ttrain-merror:0.03893\tvalid-merror:0.04961\n",
      "[28]\ttrain-merror:0.03858\tvalid-merror:0.04909\n",
      "[29]\ttrain-merror:0.03825\tvalid-merror:0.04938\n",
      "[30]\ttrain-merror:0.03817\tvalid-merror:0.04961\n",
      "[31]\ttrain-merror:0.03804\tvalid-merror:0.04973\n",
      "[32]\ttrain-merror:0.03774\tvalid-merror:0.04955\n",
      "[33]\ttrain-merror:0.03770\tvalid-merror:0.04921\n",
      "Stopping. Best iteration:\n",
      "[13]\ttrain-merror:0.04356\tvalid-merror:0.04816\n",
      "\n"
     ]
    }
   ],
   "source": [
    "igb.fit_booster(x_train.drop('weight', axis=1), y_train, \n",
    "                core_params={'evals': [((x_train.drop('weight', axis=1), y_train), 'train'),\n",
    "                                      ((x_valid.drop('weight', axis=1), y_valid), 'valid')]})"
   ]
  },
  {
   "cell_type": "markdown",
   "metadata": {
    "colab_type": "text",
    "id": "x9151AtiSRtD"
   },
   "source": [
    "Посчитаем метрики accuracy и f1 на наших наборах данных, также можем визуализировать confusion matrix, например, с помощью `plt.imshow()`. Можно использовать предложенный ниже код."
   ]
  },
  {
   "cell_type": "code",
   "execution_count": 26,
   "metadata": {
    "colab": {},
    "colab_type": "code",
    "id": "A6ByYuqwD27P"
   },
   "outputs": [
    {
     "name": "stdout",
     "output_type": "stream",
     "text": [
      "F1 Score on train: 0.9622985596784398\n",
      "F1 Score on valid: 0.9507930994558296\n",
      "F1 Score on test: 0.9474933425958088\n"
     ]
    }
   ],
   "source": [
    "dfsets = [{'set': 'train', 'dmat': x_train.drop('weight', axis=1), 'target': y_train},\n",
    "          {'set': 'valid', 'dmat': x_valid.drop('weight', axis=1), 'target': y_valid},\n",
    "          {'set': 'test', 'dmat': x_test.drop('weight', axis=1), 'target': y_test}]\n",
    "for dfset in dfsets:\n",
    "    class_preds = igb.booster.predict(xgb.DMatrix(dfset['dmat'])) # Посчитаем предсказанные значения\n",
    "    print('F1 Score on ' + str(dfset['set'])+':', f1_score(dfset['target'], class_preds,  average='micro')) # Посчитаем F1 Score"
   ]
  },
  {
   "cell_type": "code",
   "execution_count": 30,
   "metadata": {
    "colab": {},
    "colab_type": "code",
    "id": "36_p091I8Www"
   },
   "outputs": [
    {
     "data": {
      "image/png": "[encoded data removed]",
      "text/plain": [
       "<Figure size 1080x216 with 6 Axes>"
      ]
     },
     "metadata": {
      "needs_background": "light"
     },
     "output_type": "display_data"
    }
   ],
   "source": [
    "plt.subplots(1,3, figsize=(15,3))\n",
    "for i in range(len(dfsets)):\n",
    "    confmatrix = confusion_matrix(dfsets[i]['target'], igb.booster.predict(xgb.DMatrix(dfsets[i]['dmat'])))\n",
    "    plt.subplot(1,3,i+1)\n",
    "    plt.imshow(confmatrix, cmap='Greys')\n",
    "    plt.colorbar()\n",
    "    plt.ylabel('True')\n",
    "    plt.xlabel('Predicted')\n",
    "plt.show()"
   ]
  },
  {
   "cell_type": "markdown",
   "metadata": {
    "colab_type": "text",
    "id": "X7rFhBo3Tepd"
   },
   "source": [
    "Как вы оцениваете качество построенной модели? Какие проблемы могут здесь присутствовать? Как можно улучшить результат?"
   ]
  },
  {
   "cell_type": "markdown",
   "metadata": {},
   "source": [
    "Мы получили высокие метрики из-за дисбаланса классов. Для улучшения результата следует воспользоваться методом регрессии"
   ]
  }
 ],
 "metadata": {
  "colab": {
   "collapsed_sections": [],
   "name": "GB Lesson 3 new.ipynb",
   "provenance": [
    {
     "file_id": "1wUACz0uWqzoOK_3hxbtwSa5Ho8rdqnkq",
     "timestamp": 1590676828099
    },
    {
     "file_id": "1kk_w4ul_htVz-lBeCx8AjgHFf9No0gVz",
     "timestamp": 1573134395331
    }
   ]
  },
  "kernelspec": {
   "display_name": "Python 3",
   "language": "python",
   "name": "python3"
  },
  "language_info": {
   "codemirror_mode": {
    "name": "ipython",
    "version": 3
   },
   "file_extension": ".py",
   "mimetype": "text/x-python",
   "name": "python",
   "nbconvert_exporter": "python",
   "pygments_lexer": "ipython3",
   "version": "3.7.6"
  }
 },
 "nbformat": 4,
 "nbformat_minor": 1
}
